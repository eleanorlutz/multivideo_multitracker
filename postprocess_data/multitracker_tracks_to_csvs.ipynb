{
 "cells": [
  {
   "cell_type": "code",
   "execution_count": 1,
   "metadata": {},
   "outputs": [
    {
     "name": "stdout",
     "output_type": "stream",
     "text": [
      "1.5.1\n",
      "recommended version: 1.1.1 or greater\n",
      "numpy       1.13.1\n",
      "pandas      0.19.2\n",
      "Eleanor Lutz 2018-04-19T10:44:13\n",
      "\n",
      "CPython 2.7.12\n",
      "IPython 5.4.1\n",
      "\n",
      "compiler   : GCC 5.4.0 20160609\n",
      "system     : Linux\n",
      "release    : 4.13.0-38-generic\n",
      "machine    : x86_64\n",
      "processor  : x86_64\n",
      "CPU cores  : 8\n",
      "interpreter: 64bit\n",
      "Git repo   : https://github.com/eleanorlutz/multivideo_multitracker\n",
      "watermark 1.6.0\n"
     ]
    }
   ],
   "source": [
    "# Kernel should be set to Python 2 to accomodate Multitracker\n",
    "\n",
    "import multi_tracker_analysis as mta\n",
    "import numpy as np\n",
    "import pandas as pd\n",
    "import matplotlib.pyplot as plt\n",
    "from moviepy.editor import *\n",
    "import glob, math, os\n",
    "from __future__ import division\n",
    "\n",
    "%load_ext watermark\n",
    "%watermark -a \"Eleanor Lutz\" -v -r -w -m -iv -i"
   ]
  },
  {
   "cell_type": "code",
   "execution_count": 2,
   "metadata": {
    "scrolled": false
   },
   "outputs": [
    {
     "name": "stdout",
     "output_type": "stream",
     "text": [
      "Script finished running!\n"
     ]
    }
   ],
   "source": [
    "'''\n",
    "Translate Multitracker hdf5 files into Pandas dataframes and save to CSV.\n",
    "This preprocessing step needs to be done before any of the other code\n",
    "to analyze speed, velocity, etc. \n",
    "\n",
    "The script will not overwrite files that have already been created, so it can be \n",
    "run multiple times until the output is a one-line: \n",
    "\"Script finished running!\"\n",
    "\n",
    "If files are being processed, Multitracker will output various lines of text\n",
    "that are propagated into the python output. \n",
    "'''\n",
    "\n",
    "fnames = glob.glob('/home/eleanor/Documents/gcamp_analysis_files_finished/*/data/')\n",
    "df_names = pd.read_csv('/home/eleanor/Documents/gitrepos/mosquito_behavior_analysis/static_data_all_GCAMP.csv')\n",
    "\n",
    "for n in range(0, len(fnames)):\n",
    "    fname = fnames[n]\n",
    "    name = fname[54:-6]\n",
    "    \n",
    "    videoname = '/home/eleanor/Documents/gcamp_videos/' + name + '.avi'\n",
    "    savename = '/home/eleanor/Documents/gitrepos/mosquito_behavior_analysis/gcamp_video_csvs/'+ name +'.csv'\n",
    "    \n",
    "    # Do not overwrite video files that have already been made and reviewed\n",
    "    if not os.path.isfile(savename):\n",
    "        df, config = mta.read_hdf5_file_to_pandas.load_and_preprocess_data(fname)\n",
    "\n",
    "        video_clip = VideoFileClip(videoname)\n",
    "        frame = np.array(video_clip.get_frame(0).astype(float))\n",
    "        video_width, video_height = len(frame[0]), len(frame)\n",
    "        df['pixel_width'] = video_width\n",
    "        df['pixel_height'] = video_height\n",
    "        \n",
    "        # Mark frames detected by Multitracker to differentiate from manually entered frames.\n",
    "        df['manual_tracker_fix'] = False\n",
    "        \n",
    "        # remove default columns added by multitracker that are not relevant for mosquito larvae. \n",
    "        del df['angle'], df['area'], df['time_epoch'], df['time_epoch_nsecs'], df['time_epoch_secs'], \\\n",
    "        df['speed'], df['velocity_x'], df['velocity_y']\n",
    "\n",
    "        df.to_csv(savename, index=False)\n",
    "        del video_clip.reader, video_clip\n",
    "        \n",
    "print('Script finished running!')"
   ]
  },
  {
   "cell_type": "code",
   "execution_count": 3,
   "metadata": {
    "scrolled": false
   },
   "outputs": [
    {
     "name": "stdout",
     "output_type": "stream",
     "text": [
      "---\n",
      "0 files have errors, out of 0 total files\n"
     ]
    }
   ],
   "source": [
    "'''\n",
    "Multitracker will not register objects until they begin to move.\n",
    "In some videos, animals do not start to move until several seconds into the experiment. \n",
    "\n",
    "Each of these videos are manually inspected to confirm lack of movement in the initial frames.\n",
    "(This involves just opening each video in ImageJ Fiji and fast forwarding\n",
    "to confirm that the animal is not moving for the missing frames).\n",
    "\n",
    "This script prints out a list of all csv files with missing frames. \n",
    "'''\n",
    "\n",
    "# Print all files with missing frames for manual inspection. \n",
    "fnames = sorted(glob.glob('./gcamp_video_csvs/*.csv'))[::-1] # reversed list\n",
    "error_fnames = []\n",
    "count = 0\n",
    "\n",
    "for name in fnames:\n",
    "    df = pd.read_csv(name)\n",
    "    missed = 1799 - len(df)\n",
    "    if missed > 2: # first frame is always missing because of background subtraction. \n",
    "        error_fnames.append(name[19:])\n",
    "        print name[19:], ':', 1799-len(df), 'frames missing'\n",
    "        count += 1\n",
    "        \n",
    "print '---'\n",
    "print count, 'files have errors, out of', len(fnames), 'total files'"
   ]
  },
  {
   "cell_type": "code",
   "execution_count": 4,
   "metadata": {},
   "outputs": [
    {
     "name": "stdout",
     "output_type": "stream",
     "text": [
      "Finished analyzing 140 files!\n",
      "Rewrote 0 files!\n"
     ]
    }
   ],
   "source": [
    "'''\n",
    "Run this script once the video has been manually checked to see if it has a long period of \n",
    "no motion at the beginning. \n",
    "\n",
    "This script reads in the file list of manually inspected frames, and propagates\n",
    "the tracker's position when the larva was first detected to the beginning of the movie. \n",
    "All manually corrected frames are marked with \"manual\" in the tracker ID column.\n",
    "\n",
    "If the file has already been rewritten the script will not make any further changes. \n",
    "This is because the file is additionally checked in each loop for missing beginning frames, \n",
    "and only the missing data is added. \n",
    "'''\n",
    "\n",
    "checked = pd.read_csv('./manually_checked_beginning_pause.csv')\n",
    "checked_fnames = checked['filename'].tolist()\n",
    "count = 0\n",
    "\n",
    "for name in checked_fnames: \n",
    "    name_readable = \"/home/eleanor/Documents/gitrepos/mosquito_behavior_analysis//gcamp_video_csvs/\"+name+\".csv\"\n",
    "    df = pd.read_csv(name_readable)\n",
    "\n",
    "    frames = df['frames'].tolist()\n",
    "    fmin = min(frames)\n",
    "    fmin_row = df[df['frames'] == fmin]\n",
    "    assert len(fmin_row) == 1\n",
    "    \n",
    "    if fmin > 2:\n",
    "        for n in range(2, fmin):\n",
    "            fmin_copy = fmin_row.copy()\n",
    "            fmin_copy.ix[0, \"objid\"] = \"manual\"\n",
    "            fmin_copy.ix[0, \"frames\"] = n\n",
    "            df = df.append(fmin_copy)\n",
    "            \n",
    "        df = df.sort_values(by=\"frames\")\n",
    "        df.to_csv(name_readable, index=False)\n",
    "        count += 1\n",
    "    \n",
    "print('Finished analyzing '+str(len(checked_fnames))+' files!')\n",
    "print('Rewrote '+str(count)+' files!')"
   ]
  },
  {
   "cell_type": "code",
   "execution_count": null,
   "metadata": {
    "collapsed": true
   },
   "outputs": [],
   "source": []
  }
 ],
 "metadata": {
  "kernelspec": {
   "display_name": "Python 2",
   "language": "python",
   "name": "python2"
  },
  "language_info": {
   "codemirror_mode": {
    "name": "ipython",
    "version": 2
   },
   "file_extension": ".py",
   "mimetype": "text/x-python",
   "name": "python",
   "nbconvert_exporter": "python",
   "pygments_lexer": "ipython2",
   "version": "2.7.12"
  }
 },
 "nbformat": 4,
 "nbformat_minor": 2
}
